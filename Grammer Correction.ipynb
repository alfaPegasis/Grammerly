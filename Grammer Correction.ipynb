{
 "cells": [
  {
   "cell_type": "code",
   "execution_count": 1,
   "id": "e89403eb",
   "metadata": {},
   "outputs": [
    {
     "name": "stdout",
     "output_type": "stream",
     "text": [
      "Looking in links: https://download.pytorch.org/whl/lts/1.8/torch_lts.html\n",
      "Requirement already satisfied: torch==1.8.1+cpu in ./grammer/lib/python3.9/site-packages (1.8.1+cpu)\n",
      "Requirement already satisfied: torchvision==0.9.1+cpu in ./grammer/lib/python3.9/site-packages (0.9.1+cpu)\n",
      "Requirement already satisfied: torchaudio==0.8.1 in ./grammer/lib/python3.9/site-packages (0.8.1)\n",
      "Requirement already satisfied: numpy in ./grammer/lib/python3.9/site-packages (from torch==1.8.1+cpu) (1.21.0)\n",
      "Requirement already satisfied: typing-extensions in ./grammer/lib/python3.9/site-packages (from torch==1.8.1+cpu) (3.10.0.0)\n",
      "Requirement already satisfied: pillow>=4.1.1 in ./grammer/lib/python3.9/site-packages (from torchvision==0.9.1+cpu) (8.2.0)\n"
     ]
    }
   ],
   "source": [
    "!pip install torch==1.8.1+cpu torchvision==0.9.1+cpu torchaudio==0.8.1 -f https://download.pytorch.org/whl/lts/1.8/torch_lts.html\n"
   ]
  },
  {
   "cell_type": "code",
   "execution_count": 2,
   "id": "57de3e25",
   "metadata": {},
   "outputs": [
    {
     "name": "stdout",
     "output_type": "stream",
     "text": [
      "Collecting git+https://github.com/PrithivirajDamodaran/Gramformer.git\n",
      "  Cloning https://github.com/PrithivirajDamodaran/Gramformer.git to /tmp/pip-req-build-wq3s27rw\n",
      "  Running command git clone -q https://github.com/PrithivirajDamodaran/Gramformer.git /tmp/pip-req-build-wq3s27rw\n",
      "Requirement already satisfied: transformers in ./grammer/lib/python3.9/site-packages (from gramformer==0.1) (4.8.0)\n",
      "Requirement already satisfied: sentencepiece in ./grammer/lib/python3.9/site-packages (from gramformer==0.1) (0.1.96)\n",
      "Requirement already satisfied: python-Levenshtein in ./grammer/lib/python3.9/site-packages (from gramformer==0.1) (0.12.2)\n",
      "Requirement already satisfied: fuzzywuzzy in ./grammer/lib/python3.9/site-packages (from gramformer==0.1) (0.18.0)\n",
      "Requirement already satisfied: setuptools in ./grammer/lib/python3.9/site-packages (from python-Levenshtein->gramformer==0.1) (57.0.0)\n",
      "Requirement already satisfied: packaging in ./grammer/lib/python3.9/site-packages (from transformers->gramformer==0.1) (20.9)\n",
      "Requirement already satisfied: filelock in ./grammer/lib/python3.9/site-packages (from transformers->gramformer==0.1) (3.0.12)\n",
      "Requirement already satisfied: pyyaml in ./grammer/lib/python3.9/site-packages (from transformers->gramformer==0.1) (5.4.1)\n",
      "Requirement already satisfied: regex!=2019.12.17 in ./grammer/lib/python3.9/site-packages (from transformers->gramformer==0.1) (2021.4.4)\n",
      "Requirement already satisfied: sacremoses in ./grammer/lib/python3.9/site-packages (from transformers->gramformer==0.1) (0.0.45)\n",
      "Requirement already satisfied: tqdm>=4.27 in ./grammer/lib/python3.9/site-packages (from transformers->gramformer==0.1) (4.61.1)\n",
      "Requirement already satisfied: tokenizers<0.11,>=0.10.1 in ./grammer/lib/python3.9/site-packages (from transformers->gramformer==0.1) (0.10.3)\n",
      "Requirement already satisfied: numpy>=1.17 in ./grammer/lib/python3.9/site-packages (from transformers->gramformer==0.1) (1.21.0)\n",
      "Requirement already satisfied: requests in ./grammer/lib/python3.9/site-packages (from transformers->gramformer==0.1) (2.25.1)\n",
      "Requirement already satisfied: huggingface-hub==0.0.12 in ./grammer/lib/python3.9/site-packages (from transformers->gramformer==0.1) (0.0.12)\n",
      "Requirement already satisfied: typing-extensions in ./grammer/lib/python3.9/site-packages (from huggingface-hub==0.0.12->transformers->gramformer==0.1) (3.10.0.0)\n",
      "Requirement already satisfied: pyparsing>=2.0.2 in ./grammer/lib/python3.9/site-packages (from packaging->transformers->gramformer==0.1) (2.4.7)\n",
      "Requirement already satisfied: chardet<5,>=3.0.2 in ./grammer/lib/python3.9/site-packages (from requests->transformers->gramformer==0.1) (4.0.0)\n",
      "Requirement already satisfied: certifi>=2017.4.17 in ./grammer/lib/python3.9/site-packages (from requests->transformers->gramformer==0.1) (2021.5.30)\n",
      "Requirement already satisfied: idna<3,>=2.5 in ./grammer/lib/python3.9/site-packages (from requests->transformers->gramformer==0.1) (2.10)\n",
      "Requirement already satisfied: urllib3<1.27,>=1.21.1 in ./grammer/lib/python3.9/site-packages (from requests->transformers->gramformer==0.1) (1.26.5)\n",
      "Requirement already satisfied: click in ./grammer/lib/python3.9/site-packages (from sacremoses->transformers->gramformer==0.1) (8.0.1)\n",
      "Requirement already satisfied: joblib in ./grammer/lib/python3.9/site-packages (from sacremoses->transformers->gramformer==0.1) (1.0.1)\n",
      "Requirement already satisfied: six in ./grammer/lib/python3.9/site-packages (from sacremoses->transformers->gramformer==0.1) (1.16.0)\n"
     ]
    }
   ],
   "source": [
    "!pip install git+https://github.com/PrithivirajDamodaran/Gramformer.git"
   ]
  },
  {
   "cell_type": "code",
   "execution_count": 3,
   "id": "cc3c1b05",
   "metadata": {},
   "outputs": [],
   "source": [
    "from gramformer import Gramformer"
   ]
  },
  {
   "cell_type": "code",
   "execution_count": 4,
   "id": "2552d10e",
   "metadata": {},
   "outputs": [
    {
     "data": {
      "application/vnd.jupyter.widget-view+json": {
       "model_id": "e6513454983640468b50a6abef996212",
       "version_major": 2,
       "version_minor": 0
      },
      "text/plain": [
       "Downloading:   0%|          | 0.00/1.89k [00:00<?, ?B/s]"
      ]
     },
     "metadata": {},
     "output_type": "display_data"
    },
    {
     "data": {
      "application/vnd.jupyter.widget-view+json": {
       "model_id": "c8df776f827a44afb3623cd68c8333de",
       "version_major": 2,
       "version_minor": 0
      },
      "text/plain": [
       "Downloading:   0%|          | 0.00/1.39k [00:00<?, ?B/s]"
      ]
     },
     "metadata": {},
     "output_type": "display_data"
    },
    {
     "data": {
      "application/vnd.jupyter.widget-view+json": {
       "model_id": "849afc7e53c94772925cefb877c6fac3",
       "version_major": 2,
       "version_minor": 0
      },
      "text/plain": [
       "Downloading:   0%|          | 0.00/792k [00:00<?, ?B/s]"
      ]
     },
     "metadata": {},
     "output_type": "display_data"
    },
    {
     "data": {
      "application/vnd.jupyter.widget-view+json": {
       "model_id": "13c2c8ef42104cecab557a5d451f9955",
       "version_major": 2,
       "version_minor": 0
      },
      "text/plain": [
       "Downloading:   0%|          | 0.00/1.39M [00:00<?, ?B/s]"
      ]
     },
     "metadata": {},
     "output_type": "display_data"
    },
    {
     "data": {
      "application/vnd.jupyter.widget-view+json": {
       "model_id": "6aa2321d7c5443d0a3a8671750dbf1a1",
       "version_major": 2,
       "version_minor": 0
      },
      "text/plain": [
       "Downloading:   0%|          | 0.00/1.79k [00:00<?, ?B/s]"
      ]
     },
     "metadata": {},
     "output_type": "display_data"
    },
    {
     "data": {
      "application/vnd.jupyter.widget-view+json": {
       "model_id": "c1d635f4b6b149bb86c71919649010a9",
       "version_major": 2,
       "version_minor": 0
      },
      "text/plain": [
       "Downloading:   0%|          | 0.00/892M [00:00<?, ?B/s]"
      ]
     },
     "metadata": {},
     "output_type": "display_data"
    },
    {
     "name": "stdout",
     "output_type": "stream",
     "text": [
      "[Gramformer] All models loaded..\n"
     ]
    }
   ],
   "source": [
    "gf=Gramformer(models=3,use_gpu=False)"
   ]
  },
  {
   "cell_type": "code",
   "execution_count": 5,
   "id": "a6577b9b",
   "metadata": {},
   "outputs": [
    {
     "data": {
      "text/plain": [
       "['My name is Anmol.']"
      ]
     },
     "execution_count": 5,
     "metadata": {},
     "output_type": "execute_result"
    }
   ],
   "source": [
    "gf.correct('Nmae my is Anmol')"
   ]
  },
  {
   "cell_type": "code",
   "execution_count": 6,
   "id": "a8c70b73",
   "metadata": {},
   "outputs": [],
   "source": [
    "def correct_sentences(sentence):\n",
    "    result=gf.correct(sentence)\n",
    "    return result"
   ]
  },
  {
   "cell_type": "code",
   "execution_count": 8,
   "id": "4dcf9fd6",
   "metadata": {},
   "outputs": [
    {
     "data": {
      "text/plain": [
       "['I walk my dog']"
      ]
     },
     "execution_count": 8,
     "metadata": {},
     "output_type": "execute_result"
    }
   ],
   "source": [
    "correct_sentences('Iwalk to my dog')"
   ]
  },
  {
   "cell_type": "code",
   "execution_count": 9,
   "id": "a102863e",
   "metadata": {},
   "outputs": [
    {
     "name": "stdout",
     "output_type": "stream",
     "text": [
      "Collecting gradio\n",
      "  Downloading gradio-2.0.8-py3-none-any.whl (1.6 MB)\n",
      "\u001b[K     |████████████████████████████████| 1.6 MB 1.1 MB/s eta 0:00:01\n",
      "\u001b[?25hCollecting pandas\n",
      "  Downloading pandas-1.2.5-cp39-cp39-manylinux_2_5_x86_64.manylinux1_x86_64.whl (9.7 MB)\n",
      "\u001b[K     |████████████████████████████████| 9.7 MB 3.8 MB/s eta 0:00:01\n",
      "\u001b[?25hCollecting Flask-Login\n",
      "  Downloading Flask_Login-0.5.0-py2.py3-none-any.whl (16 kB)\n",
      "Requirement already satisfied: pillow in ./grammer/lib/python3.9/site-packages (from gradio) (8.2.0)\n",
      "Collecting markdown2\n",
      "  Downloading markdown2-2.4.0-py2.py3-none-any.whl (34 kB)\n",
      "Collecting analytics-python\n",
      "  Downloading analytics_python-1.3.1-py2.py3-none-any.whl (16 kB)\n",
      "Collecting Flask>=1.1.1\n",
      "  Downloading Flask-2.0.1-py3-none-any.whl (94 kB)\n",
      "\u001b[K     |████████████████████████████████| 94 kB 2.0 MB/s eta 0:00:01\n",
      "\u001b[?25hRequirement already satisfied: numpy in ./grammer/lib/python3.9/site-packages (from gradio) (1.21.0)\n",
      "Collecting matplotlib\n",
      "  Using cached matplotlib-3.4.2-cp39-cp39-manylinux1_x86_64.whl (10.3 MB)\n",
      "Collecting ffmpy\n",
      "  Downloading ffmpy-0.3.0.tar.gz (4.8 kB)\n",
      "Collecting pycryptodome\n",
      "  Downloading pycryptodome-3.10.1-cp35-abi3-manylinux2010_x86_64.whl (1.9 MB)\n",
      "\u001b[K     |████████████████████████████████| 1.9 MB 6.4 MB/s eta 0:00:01\n",
      "\u001b[?25hRequirement already satisfied: requests in ./grammer/lib/python3.9/site-packages (from gradio) (2.25.1)\n",
      "Collecting scipy\n",
      "  Downloading scipy-1.7.0-cp39-cp39-manylinux_2_5_x86_64.manylinux1_x86_64.whl (28.4 MB)\n",
      "\u001b[K     |████████████████████████████████| 28.4 MB 190 kB/s eta 0:00:01    |█▋                              | 1.4 MB 4.1 MB/s eta 0:00:07     |█████████████                   | 11.7 MB 3.8 MB/s eta 0:00:05\n",
      "\u001b[?25hCollecting Flask-Cors>=3.0.8\n",
      "  Downloading Flask_Cors-3.0.10-py2.py3-none-any.whl (14 kB)\n",
      "Collecting flask-cachebuster\n",
      "  Downloading Flask-CacheBuster-1.0.0.tar.gz (3.1 kB)\n",
      "Collecting paramiko\n",
      "  Downloading paramiko-2.7.2-py2.py3-none-any.whl (206 kB)\n",
      "\u001b[K     |████████████████████████████████| 206 kB 5.8 MB/s eta 0:00:01\n",
      "\u001b[?25hCollecting itsdangerous>=2.0\n",
      "  Downloading itsdangerous-2.0.1-py3-none-any.whl (18 kB)\n",
      "Collecting Werkzeug>=2.0\n",
      "  Using cached Werkzeug-2.0.1-py3-none-any.whl (288 kB)\n",
      "Requirement already satisfied: Jinja2>=3.0 in ./grammer/lib/python3.9/site-packages (from Flask>=1.1.1->gradio) (3.0.1)\n",
      "Requirement already satisfied: click>=7.1.2 in ./grammer/lib/python3.9/site-packages (from Flask>=1.1.1->gradio) (8.0.1)\n",
      "Requirement already satisfied: Six in ./grammer/lib/python3.9/site-packages (from Flask-Cors>=3.0.8->gradio) (1.16.0)\n",
      "Requirement already satisfied: MarkupSafe>=2.0 in ./grammer/lib/python3.9/site-packages (from Jinja2>=3.0->Flask>=1.1.1->gradio) (2.0.1)\n",
      "Requirement already satisfied: python-dateutil>2.1 in ./grammer/lib/python3.9/site-packages (from analytics-python->gradio) (2.8.1)\n",
      "Collecting monotonic>=1.5\n",
      "  Downloading monotonic-1.6-py2.py3-none-any.whl (8.2 kB)\n",
      "Collecting backoff==1.10.0\n",
      "  Downloading backoff-1.10.0-py2.py3-none-any.whl (31 kB)\n",
      "Requirement already satisfied: urllib3<1.27,>=1.21.1 in ./grammer/lib/python3.9/site-packages (from requests->gradio) (1.26.5)\n",
      "Requirement already satisfied: chardet<5,>=3.0.2 in ./grammer/lib/python3.9/site-packages (from requests->gradio) (4.0.0)\n",
      "Requirement already satisfied: certifi>=2017.4.17 in ./grammer/lib/python3.9/site-packages (from requests->gradio) (2021.5.30)\n",
      "Requirement already satisfied: idna<3,>=2.5 in ./grammer/lib/python3.9/site-packages (from requests->gradio) (2.10)\n",
      "Requirement already satisfied: pyparsing>=2.2.1 in ./grammer/lib/python3.9/site-packages (from matplotlib->gradio) (2.4.7)\n",
      "Collecting cycler>=0.10\n",
      "  Using cached cycler-0.10.0-py2.py3-none-any.whl (6.5 kB)\n",
      "Collecting kiwisolver>=1.0.1\n",
      "  Using cached kiwisolver-1.3.1-cp39-cp39-manylinux1_x86_64.whl (1.2 MB)\n",
      "Collecting pytz>=2017.3\n",
      "  Using cached pytz-2021.1-py2.py3-none-any.whl (510 kB)\n",
      "Collecting bcrypt>=3.1.3\n",
      "  Downloading bcrypt-3.2.0-cp36-abi3-manylinux2010_x86_64.whl (63 kB)\n",
      "\u001b[K     |████████████████████████████████| 63 kB 2.1 MB/s eta 0:00:01\n",
      "\u001b[?25hCollecting cryptography>=2.5\n",
      "  Downloading cryptography-3.4.7-cp36-abi3-manylinux2014_x86_64.whl (3.2 MB)\n",
      "\u001b[K     |████████████████████████████████| 3.2 MB 4.6 MB/s eta 0:00:01\n",
      "\u001b[?25hCollecting pynacl>=1.0.1\n",
      "  Downloading PyNaCl-1.4.0-cp35-abi3-manylinux1_x86_64.whl (961 kB)\n",
      "\u001b[K     |████████████████████████████████| 961 kB 3.3 MB/s eta 0:00:01\n",
      "\u001b[?25hRequirement already satisfied: cffi>=1.1 in ./grammer/lib/python3.9/site-packages (from bcrypt>=3.1.3->paramiko->gradio) (1.14.5)\n",
      "Requirement already satisfied: pycparser in ./grammer/lib/python3.9/site-packages (from cffi>=1.1->bcrypt>=3.1.3->paramiko->gradio) (2.20)\n",
      "Building wheels for collected packages: ffmpy, flask-cachebuster\n",
      "  Building wheel for ffmpy (setup.py) ... \u001b[?25ldone\n",
      "\u001b[?25h  Created wheel for ffmpy: filename=ffmpy-0.3.0-py3-none-any.whl size=4709 sha256=12e37eb2882582dcd50e05d65ec41a6750cfa507525b6dfb46dec1c1350c1971\n",
      "  Stored in directory: /home/anmol/.cache/pip/wheels/91/e2/96/f676aa08bfd789328c6576cd0f1fde4a3d686703bb0c247697\n",
      "  Building wheel for flask-cachebuster (setup.py) ... \u001b[?25ldone\n",
      "\u001b[?25h  Created wheel for flask-cachebuster: filename=Flask_CacheBuster-1.0.0-py3-none-any.whl size=3372 sha256=6c63fbb7907ee12f9374422d7990eed5f1e8dca7b0a9726f2bca234a4c646fb4\n",
      "  Stored in directory: /home/anmol/.cache/pip/wheels/40/0b/05/607940155598cf002272cafb7c7616cdecfc458dbf4f9a5676\n",
      "Successfully built ffmpy flask-cachebuster\n",
      "Installing collected packages: Werkzeug, itsdangerous, pytz, pynacl, monotonic, kiwisolver, Flask, cycler, cryptography, bcrypt, backoff, scipy, pycryptodome, paramiko, pandas, matplotlib, markdown2, Flask-Login, Flask-Cors, flask-cachebuster, ffmpy, analytics-python, gradio\n",
      "Successfully installed Flask-2.0.1 Flask-Cors-3.0.10 Flask-Login-0.5.0 Werkzeug-2.0.1 analytics-python-1.3.1 backoff-1.10.0 bcrypt-3.2.0 cryptography-3.4.7 cycler-0.10.0 ffmpy-0.3.0 flask-cachebuster-1.0.0 gradio-2.0.8 itsdangerous-2.0.1 kiwisolver-1.3.1 markdown2-2.4.0 matplotlib-3.4.2 monotonic-1.6 pandas-1.2.5 paramiko-2.7.2 pycryptodome-3.10.1 pynacl-1.4.0 pytz-2021.1 scipy-1.7.0\n"
     ]
    }
   ],
   "source": [
    "!pip install gradio"
   ]
  },
  {
   "cell_type": "code",
   "execution_count": 10,
   "id": "afb53d53",
   "metadata": {},
   "outputs": [],
   "source": [
    "import gradio as grad"
   ]
  },
  {
   "cell_type": "code",
   "execution_count": 13,
   "id": "ac95df70",
   "metadata": {},
   "outputs": [],
   "source": [
    "app_inputs=grad.inputs.Textbox(lines=2,placeholder='Your sentence..')"
   ]
  },
  {
   "cell_type": "code",
   "execution_count": 16,
   "id": "f41614c4",
   "metadata": {},
   "outputs": [],
   "source": [
    "interface=grad.Interface(fn=correct_sentences,inputs=app_inputs,outputs='text',title='Grammerly')"
   ]
  },
  {
   "cell_type": "code",
   "execution_count": 18,
   "id": "4a3cb0e4",
   "metadata": {},
   "outputs": [
    {
     "name": "stdout",
     "output_type": "stream",
     "text": [
      "Running locally at: http://127.0.0.1:7861/\n",
      "This share link will expire in 24 hours. If you need a permanent link, visit: https://gradio.app/introducing-hosted (NEW!)\n",
      "Running on External URL: https://27329.gradio.app\n",
      "Interface loading below...\n"
     ]
    },
    {
     "data": {
      "text/html": [
       "\n",
       "        <iframe\n",
       "            width=\"900\"\n",
       "            height=\"500\"\n",
       "            src=\"https://27329.gradio.app\"\n",
       "            frameborder=\"0\"\n",
       "            allowfullscreen\n",
       "        ></iframe>\n",
       "        "
      ],
      "text/plain": [
       "<IPython.lib.display.IFrame at 0x7fb8b7a1a850>"
      ]
     },
     "metadata": {},
     "output_type": "display_data"
    },
    {
     "data": {
      "text/plain": [
       "(<Flask 'gradio.networking'>,\n",
       " 'http://127.0.0.1:7861/',\n",
       " 'https://27329.gradio.app')"
      ]
     },
     "execution_count": 18,
     "metadata": {},
     "output_type": "execute_result"
    }
   ],
   "source": [
    "interface.launch(share=True)"
   ]
  },
  {
   "cell_type": "code",
   "execution_count": null,
   "id": "193da384",
   "metadata": {},
   "outputs": [],
   "source": []
  }
 ],
 "metadata": {
  "kernelspec": {
   "display_name": "grammer",
   "language": "python",
   "name": "grammer"
  },
  "language_info": {
   "codemirror_mode": {
    "name": "ipython",
    "version": 3
   },
   "file_extension": ".py",
   "mimetype": "text/x-python",
   "name": "python",
   "nbconvert_exporter": "python",
   "pygments_lexer": "ipython3",
   "version": "3.9.5"
  }
 },
 "nbformat": 4,
 "nbformat_minor": 5
}
